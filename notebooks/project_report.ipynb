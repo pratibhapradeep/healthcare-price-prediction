{
 "cells": [
  {
   "cell_type": "code",
   "execution_count": null,
   "id": "initial_id",
   "metadata": {
    "collapsed": true
   },
   "outputs": [],
   "source": [
    "# Healthcare Price Prediction Project\n",
    "\n",
    "\"\"\"This project aims to predict healthcare insurance charges based on various factors such as age, BMI, smoking status, and more. I will explore the data, train several machine learning models, evaluate their performance, and tune their hyperparameters to find the best model.\n",
    "\n",
    "## Steps:\n",
    "1. Data Exploration\n",
    "2. Data Preparation\n",
    "3. Model Training and Evaluation\n",
    "4. Hyperparameter Tuning\n",
    "5. Conclusion and Insights\n",
    "\"\"\""
   ]
  },
  {
   "metadata": {},
   "cell_type": "code",
   "outputs": [],
   "execution_count": null,
   "source": [
    "## Data Exploration\n",
    "\"\"\"\n",
    "I begin by exploring the dataset to understand the distribution of features and the target variable. Below are some key visualizations:\n",
    "\n",
    "- Distribution of insurance charges:\n",
    "\"\"\""
   ],
   "id": "970bca6157ff94e0"
  },
  {
   "metadata": {},
   "cell_type": "code",
   "outputs": [],
   "execution_count": null,
   "source": [
    "## Data Preparation\n",
    "\"\"\"\n",
    "In this section, I prepare the data for model training. This involves creating new features, encoding categorical variables, and scaling the data. The prepared data is then split into training and testing sets.\n",
    "\"\"\""
   ],
   "id": "69ea8043bed6bcda"
  },
  {
   "metadata": {},
   "cell_type": "code",
   "outputs": [],
   "execution_count": null,
   "source": [
    "## Model Training and Evaluation\n",
    "\"\"\"\n",
    "I trained several machine learning models, including Linear Regression, Random Forest, and Gradient Boosting. The models were evaluated using Mean Absolute Error (MAE), Mean Squared Error (MSE), and R-squared metrics.\n",
    "\"\"\""
   ],
   "id": "e99cb9a14c8706ee"
  },
  {
   "metadata": {},
   "cell_type": "code",
   "outputs": [],
   "execution_count": null,
   "source": [
    "## Hyperparameter Tuning\n",
    "\"\"\"\n",
    "To optimize the performance of our Random Forest model, we performed hyperparameter tuning using Grid Search. The best parameters were identified, leading to improved model performance.\n",
    "\"\"\""
   ],
   "id": "c58b4353139d7ad4"
  },
  {
   "metadata": {},
   "cell_type": "code",
   "outputs": [],
   "execution_count": null,
   "source": [
    "## Conclusion and Insights\n",
    "\"\"\"\n",
    "The Random Forest model with tuned hyperparameters performed the best, achieving the lowest Mean Absolute Error and highest R-squared value. This model can be used to predict healthcare insurance charges with a good level of accuracy.\n",
    "\n",
    "### Future Work:\n",
    "- Explore additional features that could improve model accuracy.\n",
    "- Experiment with more advanced models such as XGBoost or Neural Networks.\n",
    "\"\"\""
   ],
   "id": "930a9669e701f4cb"
  },
  {
   "metadata": {},
   "cell_type": "code",
   "outputs": [],
   "execution_count": null,
   "source": [
    "##Model Validation Results\n",
    "\"\"\"\n",
    "Linear Regression:\n",
    "Mean Absolute Error: 4188.25435146938\n",
    "Mean Squared Error: 33746876.24821961\n",
    "R-squared: 0.782627040337474\n",
    "---\n",
    "Random Forest:\n",
    "Mean Absolute Error: 2486.939447346673\n",
    "Mean Squared Error: 20836747.343104873\n",
    "R-squared: 0.8657847497825836\n",
    "---\n",
    "Gradient Boosting:\n",
    "Mean Absolute Error: 2424.0892466242612\n",
    "Mean Squared Error: 18801597.445976634\n",
    "R-squared: 0.8788937129127338\n",
    "\"\"\""
   ],
   "id": "fe4562d0d5253fc3"
  }
 ],
 "metadata": {
  "kernelspec": {
   "display_name": "Python 3",
   "language": "python",
   "name": "python3"
  },
  "language_info": {
   "codemirror_mode": {
    "name": "ipython",
    "version": 2
   },
   "file_extension": ".py",
   "mimetype": "text/x-python",
   "name": "python",
   "nbconvert_exporter": "python",
   "pygments_lexer": "ipython2",
   "version": "2.7.6"
  }
 },
 "nbformat": 4,
 "nbformat_minor": 5
}
